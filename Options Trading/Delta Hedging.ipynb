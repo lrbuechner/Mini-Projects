{
 "cells": [
  {
   "cell_type": "code",
   "execution_count": 2591,
   "metadata": {
    "ExecuteTime": {
     "end_time": "2019-11-18T00:17:08.155472Z",
     "start_time": "2019-11-18T00:17:08.148515Z"
    }
   },
   "outputs": [],
   "source": [
    "import os\n",
    "import numpy as np\n",
    "import pandas as pd\n",
    "import scipy.stats\n",
    "import matplotlib.pyplot as plt\n",
    "\n",
    "# importing data and adding symbol to dataframe\n",
    "data = pd.read_csv(os.getcwd()+\"\\\\AAPL.csv\")\n",
    "data['sym'] = ['AAPL' for i in range(len(data))]"
   ]
  },
  {
   "cell_type": "code",
   "execution_count": 2651,
   "metadata": {
    "ExecuteTime": {
     "end_time": "2019-11-18T00:38:49.862414Z",
     "start_time": "2019-11-18T00:38:49.835364Z"
    }
   },
   "outputs": [],
   "source": [
    "class market_data:\n",
    "    \n",
    "    def __init__(self, stock_data):\n",
    "        self.stock_data = self.prep_data1(stock_data)\n",
    "        \n",
    "    def prep_data1(self, data):\n",
    "        data['datetime'] = pd.to_datetime(data['Date'])\n",
    "        data['logret'] =  [0]+[np.log(data['Close'].iloc[i+1]/data['Close'].iloc[i]) for i in range(len(data)-1)]\n",
    "        return data.drop(columns = ['Date'])\n",
    "        \n",
    "    # plots a given symbol with y_label being (Open, High, Low, etc)\n",
    "    def plot_price(self, symbol, y_label):\n",
    "        df = self.stock_data[self.stock_data['sym'] == symbol]        \n",
    "        plt.figure(figsize = (10,5))\n",
    "        plt.plot(df['datetime'], df['Adj Close'], linewidth = 2, color = 'k')\n",
    "        plt.title(symbol)\n",
    "        plt.xlabel('Datetime')\n",
    "        plt.ylabel(y_label)\n",
    "        plt.show()\n",
    "    \n",
    "\n",
    "class options(market_data):\n",
    "    def __init__(self, stock_data, option_data):\n",
    "        super().__init__(stock_data)\n",
    "        self.option_data = self.prep_data2(option_data)\n",
    "        \n",
    "    def order_handler(self, option):\n",
    "        o = option['order']\n",
    "        if o == 'sell':\n",
    "            return 1\n",
    "        elif o == 'buy':\n",
    "            return -1\n",
    "        \n",
    "    def prep_data2(self, option_data):\n",
    "        # finds timedelta and converts to years(float) (252 trading days in year)\n",
    "        if 'dt' not in option_data:\n",
    "            dt = (self.stock_data.datetime.max()-self.stock_data.datetime.min()).days/252\n",
    "            for dat in option_data:\n",
    "                dat['dt'] = dt\n",
    "        return option_data\n",
    "    \n",
    "    def N(self, x):\n",
    "        return scipy.stats.norm(0,1).cdf(x)\n",
    "    \n",
    "    def d(self, opt):\n",
    "        # calculating d1 and d2\n",
    "        d1 = (np.log(opt['S']/opt['E']) + (opt['r'] + .5*opt['sigma']**2)*(opt['dt']))/(opt['sigma']*np.sqrt(opt['dt']))\n",
    "        d2 = d1 - opt['sigma']*np.sqrt(opt['dt'])\n",
    "        return d1, d2\n",
    "    \n",
    "    # rounding delta with 4sigfigs and price to 2sigfigs\n",
    "    def BSM(self):\n",
    "        # shortening variable name\n",
    "        option_data = self.option_data\n",
    "        \n",
    "        DELTA = []\n",
    "        V = []\n",
    "        \n",
    "        for dat in option_data:\n",
    "            \n",
    "            d1, d2 = self.d(dat)\n",
    "            # payoffs \n",
    "            if dat['type'] == 'call':\n",
    "                if dat['dt'] > 0:\n",
    "                    DELTA.append(self.N(d1))\n",
    "                    V.append(dat['S']*self.N(d1) - dat['E']*np.exp(-dat['r']*dat['dt'])*self.N(d2))\n",
    "                else:\n",
    "                    DELTA.append(.5*(np.sign(dat['S']-dat['E'])+1))\n",
    "                    V.append(max(dat['S']-dat['E'],0))\n",
    "            elif dat['type'] == 'put':\n",
    "                if dat['dt'] > 0:\n",
    "                    DELTA.append(-self.N(-d1))\n",
    "                    V.append(dat['E']*np.exp(-dat['r']*dat['dt'])*self.N(-d2) - dat['S']*self.N(-d1))\n",
    "                else:\n",
    "                    DELTA.append(.5*(-1*np.sign(dat['S']-dat['E'])+1))\n",
    "                    V.append(max(dat['E']-dat['S'],0))\n",
    "            # rounding values\n",
    "        return [round(i,2) for i in DELTA], [round(i,2) for i in V]\n",
    "    \n",
    "    # note that that this updates self.option_data's sigma as well as retursn the value\n",
    "    def implied_vol(self):\n",
    "        # The routine below is repeated for each option in the portfolio\n",
    "        epsillon = 0.01 # 1 cent\n",
    "        \n",
    "        for i in range(len(self.option_data)):\n",
    "            if 'sigma' not in self.option_data[i]:\n",
    "                self.option_data[i]['sigma'] = 1\n",
    "    \n",
    "        # updates sigma until V converges to observed price for each option in portfolio\n",
    "        index = 0\n",
    "        while index != len(self.option_data):\n",
    "            delta, V = self.BSM()\n",
    "            diff = V[index]-self.option_data[index]['observed']\n",
    "            \n",
    "            if diff < 0:\n",
    "                self.option_data[index]['sigma'] += diff/1000\n",
    "            else:\n",
    "                self.option_data[index]['sigma'] -= diff/1000\n",
    "            # convergence condition\n",
    "            if abs(diff) < epsillon:\n",
    "                index+=1   \n",
    "        return [round(i['sigma'],4) for i in self.option_data], delta\n",
    "    \n",
    "    # 'hedge_dates' = {'AAPL': [datetime1, datetime2, ...], 'GM': [datetime1, datetime2, ...]}\n",
    "    def deltahedge(self, hedge_dates, bool_print):\n",
    "        \n",
    "        s_dat = self.stock_data\n",
    "        dates = s_dat['datetime'].values\n",
    "        symbols = [i['sym'] for i in self.option_data]\n",
    "        account = [{'delta': [0], 'trades': [0], 'balance': [0]} for i in symbols]\n",
    "    \n",
    "        for d in dates:\n",
    "            for sym in symbols:\n",
    "                \n",
    "                # this try, except statement deals with the fact that you may have an option in your portfolio \n",
    "                # that you arent actively trying to hedge\n",
    "                try:\n",
    "                    if d in hedge_dates[sym]:\n",
    "        \n",
    "                        # updates the price for each unique symbo\n",
    "                        price = s_dat[(s_dat['sym'] == sym) & (s_dat['datetime'] == d)]['Close'].values[0]\n",
    "                        self.option_data[symbols.index(sym)]['S'] = price\n",
    "                        self.option_data[symbols.index(sym)]['dt'] = ((dates[-1]-d)).days/252\n",
    "                except:\n",
    "                    pass\n",
    "            delta, V = self.BSM() # delta = [d1, d2, ...], V = [v1, v2, ...]\n",
    "            \n",
    "            for i in range(len(symbols)):\n",
    "                \n",
    "                sign = self.order_handler(self.option_data[i])\n",
    "                # initial action\n",
    "                if str(d)[:10] == str(hedge_dates[sym][0])[:10]:\n",
    "                    account[i]['balance'][0] = 100*V[i]*np.sign(delta[i])*sign\n",
    "                \n",
    "                # accounting for interest\n",
    "                try:\n",
    "                    dt = ((hedge_dates[symbols[i]][-1]-hedge_dates[symbols[i]][-2])).days/252\n",
    "                    account[i]['balance'][-1] = round(account[i]['balance'][-1]*np.exp(self.option_data[i]['r']*dt),2)\n",
    "                    account[i]['delta'].append(delta[i])\n",
    "                    action = round((delta[i]-account[i]['delta'][-2])*100)\n",
    "                    account[i]['trades'].append(action)\n",
    "                    S = self.option_data[i]['S']\n",
    "                    account[i]['balance'].append(account[i]['balance'][-1]-action*S*sign)\n",
    "                except:\n",
    "                    pass\n",
    "        \n",
    "        value = 0\n",
    "        for i in range(len(account)):\n",
    "            shares = account[i]['delta'][-1]*100\n",
    "            S = self.option_data[i]['S']\n",
    "            V_i = V[i]*100\n",
    "            value += account[i]['balance'][-1] + sign*(S*shares - V_i)\n",
    "            print(value)\n",
    "        value = round(value,2)\n",
    "            \n",
    "        # printout \n",
    "        if bool_print == True:\n",
    "            print('Final Balance: ${}\\n'.format(value))\n",
    "            for i in range(len(symbols)):\n",
    "                print('----- {}'.format(symbols[i]))\n",
    "                p = account[i]\n",
    "                for item in p.items():\n",
    "                    print(item)\n",
    "        return value, account\n",
    "    \n",
    "    def realized_vol(self):\n",
    "        dates = pd.to_datetime(self.stock_data['datetime'].values)\n",
    "        return (1/np.sqrt((dates[-1]-dates[0]).days/252))*self.stock_data['logret'].std()    "
   ]
  },
  {
   "cell_type": "code",
   "execution_count": 2652,
   "metadata": {
    "ExecuteTime": {
     "end_time": "2019-11-18T00:38:50.094715Z",
     "start_time": "2019-11-18T00:38:49.988968Z"
    }
   },
   "outputs": [
    {
     "data": {
      "image/png": "[encoded data removed]",
      "text/plain": [
       "<Figure size 720x360 with 1 Axes>"
      ]
     },
     "metadata": {
      "needs_background": "light"
     },
     "output_type": "display_data"
    }
   ],
   "source": [
    "X = market_data(data)\n",
    "X.plot_price('AAPL', 'Close')"
   ]
  },
  {
   "cell_type": "markdown",
   "metadata": {},
   "source": [
    "# Remarks\n",
    "\n",
    "- This code can deal with hedging options spreads.\n",
    "- For ...deltahedge(hedge_dates)...... hedge_times is a dictionary of dates on which to hedge each asset in portfolio. For example, {'AAPL': [d1], 'BABA': [d1, d2, d3]} would hedge AAPL once prior to expiration and BABA 3 times.\n",
    "- This assumes a constant volatility. All I would have to do to calibrate the hedging with a volatility model would be to add a new paramater to the hedging routine that has volatility estimates for each d_i ...deltahedge(hedge_dates, vol_model). "
   ]
  },
  {
   "cell_type": "markdown",
   "metadata": {},
   "source": [
    "$\\textbf{Exercise 6.1.}$ On Aug 7, 2014 the stock AAPL closed at \\\\$94.48. At this time, the call with strike \\\\$94 and expiration Aug 29, 2014 was traded at \\\\$2.425 (midprice). Assume the rate is 0.0015. In all following questions assume you sold a call for \\\\$2.425.\n",
    "\n",
    "Source: https://www.math.tamu.edu/~berko/teaching/common/math425/CourseExercises.pdf\n"
   ]
  },
  {
   "cell_type": "code",
   "execution_count": 2664,
   "metadata": {
    "ExecuteTime": {
     "end_time": "2019-11-18T00:42:41.161803Z",
     "start_time": "2019-11-18T00:42:41.155788Z"
    }
   },
   "outputs": [],
   "source": [
    "portfolio = [{'sym': 'AAPL', 'order': 'sell', 'type': 'call', 'observed': 2.425, 'S':  94.48, 'E': 94, 'r': .0015}]\n",
    "O = options(data, portfolio)"
   ]
  },
  {
   "cell_type": "markdown",
   "metadata": {},
   "source": [
    "#### What’s the implied volatility? Corresponding delta?"
   ]
  },
  {
   "cell_type": "code",
   "execution_count": 2665,
   "metadata": {
    "ExecuteTime": {
     "end_time": "2019-11-18T00:42:42.387127Z",
     "start_time": "2019-11-18T00:42:41.506510Z"
    }
   },
   "outputs": [
    {
     "name": "stdout",
     "output_type": "stream",
     "text": [
      "Implied Volatility: [0.1963]\n",
      "Delta: [0.55]\n"
     ]
    }
   ],
   "source": [
    "implied_vol, delta = O.implied_vol()\n",
    "print(\"Implied Volatility: {}\\nDelta: {}\".format(implied_vol, delta))"
   ]
  },
  {
   "cell_type": "markdown",
   "metadata": {},
   "source": [
    "#### Assume you do not hedge (just deposit the option premium in the bank). What’s your profit or loss at the expiration time?"
   ]
  },
  {
   "cell_type": "code",
   "execution_count": 2666,
   "metadata": {
    "ExecuteTime": {
     "end_time": "2019-11-18T00:42:42.392117Z",
     "start_time": "2019-11-18T00:42:42.388124Z"
    }
   },
   "outputs": [
    {
     "name": "stdout",
     "output_type": "stream",
     "text": [
      "Final Balance: $-847.57\n"
     ]
    }
   ],
   "source": [
    "V = 2.425\n",
    "last_price = data['Close'].iloc[-1]\n",
    "final_balance = round(V*np.exp(.0015*16/52) - 100*max(0, last_price - 94),2)\n",
    "print('Final Balance: ${}'.format(final_balance))"
   ]
  },
  {
   "cell_type": "markdown",
   "metadata": {},
   "source": [
    "#### Assume you hedge daily using implied volatility as your sigma. What’s your profit or loss at the expirationtime?"
   ]
  },
  {
   "cell_type": "code",
   "execution_count": 2667,
   "metadata": {
    "ExecuteTime": {
     "end_time": "2019-11-18T00:42:42.443004Z",
     "start_time": "2019-11-18T00:42:42.394158Z"
    },
    "scrolled": false
   },
   "outputs": [
    {
     "name": "stdout",
     "output_type": "stream",
     "text": [
      "-24.200000000000728\n",
      "Final Balance: $-24.2\n",
      "\n",
      "----- AAPL\n",
      "('delta', [0, 0.55, 0.57, 0.65, 0.65, 0.73, 0.75, 0.77, 0.83, 0.88, 0.88, 0.88, 0.91, 0.91, 0.89, 0.93, 0.93, 0.94])\n",
      "('trades', [0, 55.0, 2.0, 8.0, 0.0, 8.0, 2.0, 2.0, 6.0, 5.0, 0.0, 0.0, 3.0, 0.0, -2.0, 4.0, 0.0, 1.0])\n",
      "('balance', [243.0, -4953.43, -5142.94, -5910.9, -5910.94, -6688.9, -6883.94, -7079.94, -7674.95, -8177.65, -8177.7, -8177.75, -8481.76, -8481.81, -8280.08, -8688.65, -8688.7, -8791.2])\n"
     ]
    }
   ],
   "source": [
    "# In the previous step, by calling the implied_vol method the 'params' variable \n",
    "# was updated with the implied volatility. If the method wasn't called sigma would remain the same (4).\n",
    "\n",
    "daily = pd.to_datetime(O.stock_data.datetime.values)\n",
    "hedge_dates = {'AAPL':daily}\n",
    "\n",
    "final_balance, account = O.deltahedge(hedge_dates, True)"
   ]
  },
  {
   "cell_type": "markdown",
   "metadata": {},
   "source": [
    "#### Calculate the volatility realized by these historical prices. Re-do delta-hedging using the historical volatility as your sigma (you still sold the option for 2.425). What’s your profit or loss at the expiration time?"
   ]
  },
  {
   "cell_type": "code",
   "execution_count": 2668,
   "metadata": {
    "ExecuteTime": {
     "end_time": "2019-11-18T00:42:42.676001Z",
     "start_time": "2019-11-18T00:42:42.670044Z"
    }
   },
   "outputs": [],
   "source": [
    "rv = O.realized_vol()\n",
    "\n",
    "portfolio =  [{'sym': 'AAPL', 'order': 'sell', 'type': 'call', 'sigma': rv, 'S':  94.48, 'E': 94, 'r': .0015}]\n",
    "O = options(data, portfolio)"
   ]
  },
  {
   "cell_type": "code",
   "execution_count": 2669,
   "metadata": {
    "ExecuteTime": {
     "end_time": "2019-11-18T00:42:42.862163Z",
     "start_time": "2019-11-18T00:42:42.809324Z"
    }
   },
   "outputs": [
    {
     "name": "stdout",
     "output_type": "stream",
     "text": [
      "Realized Volatility: 0.0204\n",
      "\n",
      "-11.1299999999992\n",
      "Final Balance: $-11.13\n",
      "\n",
      "----- AAPL\n",
      "('delta', [0, 0.81, 0.91, 1.0, 1.0, 1.0, 1.0, 1.0, 1.0, 1.0, 1.0, 1.0, 1.0, 1.0, 1.0, 1.0, 1.0, 1.0])\n",
      "('trades', [0, 81.0, 10.0, 9.0, 0.0, 0.0, 0.0, 0.0, 0.0, 0.0, 0.0, 0.0, 0.0, 0.0, 0.0, 0.0, 0.0, 0.0])\n",
      "('balance', [55.0, -7597.93, -8545.38, -9409.35, -9409.41, -9409.47, -9409.53, -9409.59, -9409.65, -9409.71, -9409.77, -9409.83, -9409.89, -9409.95, -9410.01, -9410.07, -9410.13, -9410.13])\n"
     ]
    }
   ],
   "source": [
    "print('Realized Volatility: {}\\n'.format(round(rv,4)))\n",
    "final_balance, portfolio = O.deltahedge(hedge_dates, True)"
   ]
  },
  {
   "cell_type": "markdown",
   "metadata": {},
   "source": [
    "#### What is better and why: no hedging, hedging with implied volatility or hedging with realized volatility? What if the prices were exhibiting the same (realized) volatility but were going down instead of up?\n",
    "\n",
    "$ RV > IV > \\neg{hedging} $\n",
    "\n",
    "Without hedging, you are entirely exposed to the risk of holding the option. By hedging using IV, you are actively building a replicating portfolio that offsets the risk of holding an option. Lastly, simulating hedging with realized volatility is optimal because you have a look back bias that allows you to know exactly how volitile the market will be, and thus can hedge appropriately. The reason the final balance is still non-zero (analagous to hedging away all risk) is because our trading frequency is daily and we hedged with a constant sigma. In reality, one would have found an optimal hedging procedure under the constraints of transaction fees and the ability of their volatility model to correctly forcast market volatility. "
   ]
  }
 ],
 "metadata": {
  "kernelspec": {
   "display_name": "Python 3",
   "language": "python",
   "name": "python3"
  },
  "language_info": {
   "codemirror_mode": {
    "name": "ipython",
    "version": 3
   },
   "file_extension": ".py",
   "mimetype": "text/x-python",
   "name": "python",
   "nbconvert_exporter": "python",
   "pygments_lexer": "ipython3",
   "version": "3.7.3"
  }
 },
 "nbformat": 4,
 "nbformat_minor": 2
}
