{
 "cells": [
  {
   "cell_type": "markdown",
   "metadata": {},
   "source": [
    "1. You must jump each peg over another peg, but only if there is an open space.\n",
    "2. Each peg you jump over must be removed."
   ]
  },
  {
   "cell_type": "code",
   "execution_count": 1,
   "metadata": {},
   "outputs": [],
   "source": [
    "import numpy as np\n",
    "import pandas as pd \n",
    "import matplotlib.pyplot as plt \n",
    "import seaborn as sns\n",
    "import random"
   ]
  },
  {
   "cell_type": "code",
   "execution_count": 2,
   "metadata": {},
   "outputs": [],
   "source": [
    "def board_init():\n",
    "    board = []\n",
    "    for row in range(1,6):\n",
    "        board.append([1 for i in range(row)])\n",
    "\n",
    "    a = random.choice([i for i in range(5)])\n",
    "    b = random.choice([i for i in range(a+1)])\n",
    "    start = (a,b)\n",
    "    board[a][b] = 0\n",
    "    return board, start\n",
    "\n",
    "def select_piece():\n",
    "    a = random.choice([i for i in range(5)])\n",
    "    b = random.choice([i for i in range(a+1)])\n",
    "    return a,b \n",
    "    \n",
    "def check_neighbors(board,a,b):\n",
    "    moves = []\n",
    "    if a+2 <= 4:\n",
    "        if board[a+1][b] == 1 and board[a+2][b] == 0:\n",
    "            moves.append((a+1,b,a+2,b))\n",
    "        if b+2 <= 4:\n",
    "            if board[a+1][b+1] == 1 and board[a+2][b+2] == 0:\n",
    "                moves.append((a+1,b+1,a+2,b+2))\n",
    "    if a-2 >= 0:\n",
    "        if b <= a-2:\n",
    "            if board[a-1][b] == 1 and board[a-2][b] == 0:\n",
    "                moves.append((a-1,b,a-2,b))\n",
    "        if b-2 >= 0:\n",
    "            if board[a-1][b-1] == 1 and board[a-2][b-2] == 0: \n",
    "                moves.append((a-1,b-1,a-2,b-2))\n",
    "    if b+2 <= a:\n",
    "        if board[a][b+1] == 1 and board[a][b+2] == 0:\n",
    "            moves.append((a,b+1,a,b+2))\n",
    "    if b-2 >= 0:\n",
    "        if board[a][b-1] == 1 and board[a][b-2] == 0:\n",
    "            moves.append((a,b-1,a,b-2))\n",
    "    return moves \n",
    "                        \n",
    "def move_piece(board,a,b,x,y,g,h):\n",
    "    board[a][b] = 0\n",
    "    board[x][y] = 0\n",
    "    board[g][h] = 1\n",
    "\n",
    "def play_game():\n",
    "    \n",
    "    directions = []\n",
    "    B = board_init()\n",
    "    board = B[0]\n",
    "    start = B[1]\n",
    "    pieces = 14\n",
    "    coords = set() ; boolie = True  \n",
    "\n",
    "    while boolie == True :\n",
    "                 \n",
    "        a,b = select_piece() \n",
    "        if board[a][b] == 1:\n",
    "            coords.add((a,b))\n",
    "            possible_moves = check_neighbors(board,a,b)\n",
    "            \n",
    "            if len(possible_moves) != 0:\n",
    "                move = random.choice(possible_moves)\n",
    "                x, y, xprime, yprime = move     \n",
    "                move_piece(board,a,b,x,y,xprime,yprime)      \n",
    "                directions.append(((a,b),(xprime,yprime))) # (coordinates), (move)\n",
    "                pieces -= 1 \n",
    "                coords = set()\n",
    "\n",
    "        if len(coords) == pieces:\n",
    "            boolie = False\n",
    "            \n",
    "    clean_board = []\n",
    "    for row in range(1,6):\n",
    "        clean_board.append([1 for i in range(row)])\n",
    "    clean_board[start[0]][start[1]] = 0\n",
    "    \n",
    "    return [pieces, start, clean_board, board, directions]\n",
    "\n",
    "def sim_environment(num_sim):\n",
    "    \n",
    "    results = []\n",
    "    while num_sim >= 0:\n",
    "        simulation = play_game()\n",
    "        results.append(simulation)\n",
    "        num_sim -= 1\n",
    "    \n",
    "    return results\n",
    "\n",
    "def rotation(board):\n",
    "    \n",
    "    # inner \n",
    "    hold = board[3][2]\n",
    "    board[3][2] = board[2][1]\n",
    "    board[2][1] = board[3][1]\n",
    "    board[3][1] = hold\n",
    "    \n",
    "    # verticies \n",
    "    hold = board[4][4]\n",
    "    board[4][4] = board[0][0]\n",
    "    board[0][0] = board[4][0]\n",
    "    board[4][0] = hold\n",
    "    \n",
    "    # edges\n",
    "    a = board[3][0] ; b = board[2][0] ; c = board[1][0]\n",
    "    board[3][0] = bolard[4][3] ; board[2][0] = board[4][2] ; board[1][0] = board[4][1]\n",
    "    board[4][3] = board[1][1] ; board[4][2] = board[2][2] ; board[4][1] = board[3][3]\n",
    "    board[1][1] = a ; board[2][2] = b ; board [3][3] = c\n",
    "    \n",
    "    return board"
   ]
  },
  {
   "cell_type": "code",
   "execution_count": 3,
   "metadata": {
    "scrolled": false
   },
   "outputs": [],
   "source": [
    "num_sim = 1e6\n",
    "SIMUL = sim_environment(num_sim)\n",
    "\n",
    "pieces = [i[0] for i in SIMUL]\n",
    "start =  [i[1] for i in SIMUL]\n",
    "clean_board = [i[2] for i in SIMUL]\n",
    "board = [i[3] for i in SIMUL]\n",
    "moves = [tuple(i[4]) for i in SIMUL]\n",
    "\n",
    "data = pd.DataFrame({'pieces':pieces,'start':start,'clean_board':clean_board,'board':board,'moves':moves})"
   ]
  },
  {
   "cell_type": "code",
   "execution_count": 18,
   "metadata": {
    "scrolled": false
   },
   "outputs": [
    {
     "data": {
      "image/png": "[encoded data removed]",
      "text/plain": [
       "<Figure size 720x576 with 1 Axes>"
      ]
     },
     "metadata": {
      "needs_background": "light"
     },
     "output_type": "display_data"
    },
    {
     "name": "stdout",
     "output_type": "stream",
     "text": [
      "0.01% of games ended with 8.0 pegs left\n",
      "0.27% of games ended with 10.0 pegs left\n",
      "0.51% of games ended with 1.0 pegs left\n",
      "2.29% of games ended with 7.0 pegs left\n",
      "3.96% of games ended with 6.0 pegs left\n",
      "5.35% of games ended with 2.0 pegs left\n",
      "15.29% of games ended with 5.0 pegs left\n",
      "25.67% of games ended with 3.0 pegs left\n",
      "46.65% of games ended with 4.0 pegs left\n"
     ]
    }
   ],
   "source": [
    "plt.figure(figsize = (10,8))\n",
    "plt.title('Simulated Peg Board Game')\n",
    "plt.xlabel('Pegs Remaining')\n",
    "sns.kdeplot(data['pieces'], shade=True, color=\"k\")\n",
    "plt.show()\n",
    "\n",
    "results = []\n",
    "for freq in data['pieces'].unique():\n",
    "    number = data[data['pieces'] == freq] \n",
    "    results.append([freq,(len(number)/len(data))*100])\n",
    "    \n",
    "df_results = pd.DataFrame({'freq':[i[0] for i in results],'perc':[i[1] for i in results]}).sort_values(by=['perc'])\n",
    "\n",
    "for i in range(len(df_results)):\n",
    "    test = df_results.iloc[i]\n",
    "    print(\"{}% of games ended with {} pegs left\".format(round(test['perc'],2),test['freq']))"
   ]
  },
  {
   "cell_type": "markdown",
   "metadata": {},
   "source": [
    "The goal of the peg game is to clear the board with only one peg remaining. While the number of possible winning movesets is low, and a player with random moves is extremely unlikely to win, there are other peg outcomes with lower probabilities of happening (8, 10 pegs).\n",
    "\n",
    "A few things to note, all the information to find out exactly how many unique winning move sets there are for each peg count. All I'd have to do is write a function that rotates the triangle and apply it to all of the logged solutions. This along with generalizing the playing board to other shapes could serve as an interesting combinatorial problem. \n",
    "\n",
    "### A Solution\n",
    "\n",
    "* Starting board\n",
    "* ((piece to move), (where to move to))\n",
    "* Final board"
   ]
  },
  {
   "cell_type": "code",
   "execution_count": 5,
   "metadata": {},
   "outputs": [
    {
     "name": "stdout",
     "output_type": "stream",
     "text": [
      "[1]\n",
      "[1, 0]\n",
      "[1, 1, 1]\n",
      "[1, 1, 1, 1]\n",
      "[1, 1, 1, 1, 1]\n",
      "------------------\n",
      "((3, 3), (1, 1))\n",
      "((2, 0), (2, 2))\n",
      "((4, 1), (2, 1))\n",
      "((1, 1), (3, 1))\n",
      "((0, 0), (2, 0))\n",
      "((3, 0), (1, 0))\n",
      "((4, 3), (4, 1))\n",
      "((2, 2), (4, 2))\n",
      "((4, 1), (4, 3))\n",
      "((4, 4), (4, 2))\n",
      "((4, 2), (2, 0))\n",
      "((1, 0), (3, 0))\n",
      "((4, 0), (2, 0))\n",
      "------------------\n",
      "[0]\n",
      "[0, 0]\n",
      "[1, 0, 0]\n",
      "[0, 0, 0, 0]\n",
      "[0, 0, 0, 0, 0]\n"
     ]
    }
   ],
   "source": [
    "solution = data[data['pieces'] == 1] \n",
    "iD = 1\n",
    "\n",
    "for i in solution['clean_board'].iloc[iD]:\n",
    "    print(i)\n",
    "print('-'*18)\n",
    "for i in solution['moves'].iloc[iD]:\n",
    "    print(i)\n",
    "print('-'*18)\n",
    "for i in solution['board'].iloc[iD]:\n",
    "    print(i)"
   ]
  }
 ],
 "metadata": {
  "kernelspec": {
   "display_name": "Python 3",
   "language": "python",
   "name": "python3"
  },
  "language_info": {
   "codemirror_mode": {
    "name": "ipython",
    "version": 3
   },
   "file_extension": ".py",
   "mimetype": "text/x-python",
   "name": "python",
   "nbconvert_exporter": "python",
   "pygments_lexer": "ipython3",
   "version": "3.7.1"
  }
 },
 "nbformat": 4,
 "nbformat_minor": 2
}
